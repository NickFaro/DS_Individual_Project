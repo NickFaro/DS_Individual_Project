import pandas as pd
import matplotlib.pyplot as plt

# Load the databases as csv files
standings_df = pd.read_csv('/content/sportsref_download.csv')
batting_df = pd.read_csv('/content/batting_stats.csv')

# Merge the datasets with the "Team" column
merged_df = pd.merge(standings_df, batting_df, on='Team')

# Create separate plots for BA vs Wins and SLG vs Wins
fig, axs = plt.subplots(2, 1, figsize=(10, 12))

# Plot BA vs Wins
axs[0].scatter(merged_df['BA'], merged_df['W'])
axs[0].set_xlabel('BA')
axs[0].set_ylabel('Wins')
axs[0].set_title('BA vs Wins')

# Plot SLG vs Wins
axs[1].scatter(merged_df['SLG'], merged_df['W'])
axs[1].set_xlabel('SLG')
axs[1].set_ylabel('Wins')
axs[1].set_title('SLG vs Wins')

# Show plots
plt.tight_layout()
plt.show()
