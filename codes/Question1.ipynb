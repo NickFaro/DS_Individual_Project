import pandas as pd
import matplotlib.pyplot as plt

# Load the databases as csv files
lob_df = pd.read_csv('DS_Individual_Project/data/LOB.csv')
standings_df = pd.read_csv('DS_Individual_Project/data/sportsref_download.csv')

# Merge the datasets with the "Team" column
merged_df = pd.merge(standings_df, lob_df, on='Team')

# Plot
plt.figure(figsize=(10, 6))

# Plot Wins and LOB
plt.plot(merged_df['Team'], merged_df['W'], label='Wins')
plt.plot(merged_df['Team'], merged_df['2023'], label='Left On Base')

# Add numerical value to each point
for i, row in merged_df.iterrows():
    plt.annotate(f"{row['W']}", (row['Team'], row['W']), textcoords="offset points", xytext=(0,10), ha='center', rotation=45)
    plt.annotate(f"{row['2023']}", (row['Team'], row['2023']), textcoords="offset points", xytext=(0,10), ha='center', rotation=45)

# Graph Formatting
plt.xlabel('Team')
plt.ylabel('Count')
plt.title('Wins vs Left On Base')
plt.xticks(rotation=90)
plt.legend()
plt.grid(True)

# Show the plot
plt.tight_layout()
plt.show()
