import pandas as pd
import matplotlib.pyplot as plt

# Load the databases as csv files
standings_df = pd.read_csv('/content/sportsref_download.csv')
pitching_df = pd.read_csv('/content/pitching_stats.csv')
defense_df = pd.read_csv('/content/defensice_stats.csv')

# Merge the datasets with the "Team" column
merged_df = pd.merge(standings_df, pitching_df, on='Team')
merged_df = pd.merge(merged_df, defense_df, on='Team')
print(merged_df.columns)

# Create separate plots for ERA vs Wins and DefEff vs Wins
fig, axs = plt.subplots(2, 1, figsize=(10, 12))

# Plot ERA vs Wins
axs[0].scatter(merged_df['ERA'], merged_df['W'])
axs[0].set_xlabel('ERA')
axs[0].set_ylabel('Wins')
axs[0].set_title('ERA vs Wins')

# Plot DefEff vs Wins
axs[1].scatter(merged_df['DefEff'], merged_df['W'])
axs[1].set_xlabel('Defensive Efficiency (DefEff)')
axs[1].set_ylabel('Wins')
axs[1].set_title('DefEff vs Wins')

# Show plots
plt.tight_layout()
plt.show()
